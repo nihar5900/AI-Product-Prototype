{
 "cells": [
  {
   "cell_type": "code",
   "execution_count": 1,
   "id": "515ee3f8",
   "metadata": {},
   "outputs": [],
   "source": [
    "import pandas as pd\n",
    "import numpy as np\n",
    "import matplotlib.pyplot as plt\n",
    "import seaborn as sns\n",
    "%matplotlib inline\n",
    "\n",
    "import re"
   ]
  },
  {
   "cell_type": "code",
   "execution_count": 2,
   "id": "f702821e",
   "metadata": {},
   "outputs": [],
   "source": [
    "df=pd.read_csv(\"C:\\\\Users\\\\Acer\\\\Downloads\\\\smartphones - smartphones.csv\")"
   ]
  },
  {
   "cell_type": "code",
   "execution_count": 3,
   "id": "3b64ccbe",
   "metadata": {
    "scrolled": true
   },
   "outputs": [
    {
     "data": {
      "text/html": [
       "<div>\n",
       "<style scoped>\n",
       "    .dataframe tbody tr th:only-of-type {\n",
       "        vertical-align: middle;\n",
       "    }\n",
       "\n",
       "    .dataframe tbody tr th {\n",
       "        vertical-align: top;\n",
       "    }\n",
       "\n",
       "    .dataframe thead th {\n",
       "        text-align: right;\n",
       "    }\n",
       "</style>\n",
       "<table border=\"1\" class=\"dataframe\">\n",
       "  <thead>\n",
       "    <tr style=\"text-align: right;\">\n",
       "      <th></th>\n",
       "      <th>model</th>\n",
       "      <th>price</th>\n",
       "      <th>rating</th>\n",
       "      <th>sim</th>\n",
       "      <th>processor</th>\n",
       "      <th>ram</th>\n",
       "      <th>battery</th>\n",
       "      <th>display</th>\n",
       "      <th>camera</th>\n",
       "      <th>card</th>\n",
       "      <th>os</th>\n",
       "    </tr>\n",
       "  </thead>\n",
       "  <tbody>\n",
       "    <tr>\n",
       "      <th>0</th>\n",
       "      <td>OnePlus 11 5G</td>\n",
       "      <td>₹54,999</td>\n",
       "      <td>89.0</td>\n",
       "      <td>Dual Sim, 3G, 4G, 5G, VoLTE, Wi-Fi, NFC</td>\n",
       "      <td>Snapdragon 8 Gen2, Octa Core, 3.2 GHz Processor</td>\n",
       "      <td>12 GB RAM, 256 GB inbuilt</td>\n",
       "      <td>5000 mAh Battery with 100W Fast Charging</td>\n",
       "      <td>6.7 inches, 1440 x 3216 px, 120 Hz Display wit...</td>\n",
       "      <td>50 MP + 48 MP + 32 MP Triple Rear &amp; 16 MP Fron...</td>\n",
       "      <td>Memory Card Not Supported</td>\n",
       "      <td>Android v13</td>\n",
       "    </tr>\n",
       "    <tr>\n",
       "      <th>1</th>\n",
       "      <td>OnePlus Nord CE 2 Lite 5G</td>\n",
       "      <td>₹19,989</td>\n",
       "      <td>81.0</td>\n",
       "      <td>Dual Sim, 3G, 4G, 5G, VoLTE, Wi-Fi</td>\n",
       "      <td>Snapdragon 695, Octa Core, 2.2 GHz Processor</td>\n",
       "      <td>6 GB RAM, 128 GB inbuilt</td>\n",
       "      <td>5000 mAh Battery with 33W Fast Charging</td>\n",
       "      <td>6.59 inches, 1080 x 2412 px, 120 Hz Display wi...</td>\n",
       "      <td>64 MP + 2 MP + 2 MP Triple Rear &amp; 16 MP Front ...</td>\n",
       "      <td>Memory Card (Hybrid), upto 1 TB</td>\n",
       "      <td>Android v12</td>\n",
       "    </tr>\n",
       "    <tr>\n",
       "      <th>2</th>\n",
       "      <td>Samsung Galaxy A14 5G</td>\n",
       "      <td>₹16,499</td>\n",
       "      <td>75.0</td>\n",
       "      <td>Dual Sim, 3G, 4G, 5G, VoLTE, Wi-Fi</td>\n",
       "      <td>Exynos 1330, Octa Core, 2.4 GHz Processor</td>\n",
       "      <td>4 GB RAM, 64 GB inbuilt</td>\n",
       "      <td>5000 mAh Battery with 15W Fast Charging</td>\n",
       "      <td>6.6 inches, 1080 x 2408 px, 90 Hz Display with...</td>\n",
       "      <td>50 MP + 2 MP + 2 MP Triple Rear &amp; 13 MP Front ...</td>\n",
       "      <td>Memory Card Supported, upto 1 TB</td>\n",
       "      <td>Android v13</td>\n",
       "    </tr>\n",
       "    <tr>\n",
       "      <th>3</th>\n",
       "      <td>Motorola Moto G62 5G</td>\n",
       "      <td>₹14,999</td>\n",
       "      <td>81.0</td>\n",
       "      <td>Dual Sim, 3G, 4G, 5G, VoLTE, Wi-Fi</td>\n",
       "      <td>Snapdragon  695, Octa Core, 2.2 GHz Processor</td>\n",
       "      <td>6 GB RAM, 128 GB inbuilt</td>\n",
       "      <td>5000 mAh Battery with Fast Charging</td>\n",
       "      <td>6.55 inches, 1080 x 2400 px, 120 Hz Display wi...</td>\n",
       "      <td>50 MP + 8 MP + 2 MP Triple Rear &amp; 16 MP Front ...</td>\n",
       "      <td>Memory Card (Hybrid), upto 1 TB</td>\n",
       "      <td>Android v12</td>\n",
       "    </tr>\n",
       "    <tr>\n",
       "      <th>4</th>\n",
       "      <td>Realme 10 Pro Plus</td>\n",
       "      <td>₹24,999</td>\n",
       "      <td>82.0</td>\n",
       "      <td>Dual Sim, 3G, 4G, 5G, VoLTE, Wi-Fi</td>\n",
       "      <td>Dimensity 1080, Octa Core, 2.6 GHz Processor</td>\n",
       "      <td>6 GB RAM, 128 GB inbuilt</td>\n",
       "      <td>5000 mAh Battery with 67W Fast Charging</td>\n",
       "      <td>6.7 inches, 1080 x 2412 px, 120 Hz Display wit...</td>\n",
       "      <td>108 MP + 8 MP + 2 MP Triple Rear &amp; 16 MP Front...</td>\n",
       "      <td>Memory Card Not Supported</td>\n",
       "      <td>Android v13</td>\n",
       "    </tr>\n",
       "  </tbody>\n",
       "</table>\n",
       "</div>"
      ],
      "text/plain": [
       "                       model    price  rating  \\\n",
       "0              OnePlus 11 5G  ₹54,999    89.0   \n",
       "1  OnePlus Nord CE 2 Lite 5G  ₹19,989    81.0   \n",
       "2      Samsung Galaxy A14 5G  ₹16,499    75.0   \n",
       "3       Motorola Moto G62 5G  ₹14,999    81.0   \n",
       "4         Realme 10 Pro Plus  ₹24,999    82.0   \n",
       "\n",
       "                                       sim  \\\n",
       "0  Dual Sim, 3G, 4G, 5G, VoLTE, Wi-Fi, NFC   \n",
       "1       Dual Sim, 3G, 4G, 5G, VoLTE, Wi-Fi   \n",
       "2       Dual Sim, 3G, 4G, 5G, VoLTE, Wi-Fi   \n",
       "3       Dual Sim, 3G, 4G, 5G, VoLTE, Wi-Fi   \n",
       "4       Dual Sim, 3G, 4G, 5G, VoLTE, Wi-Fi   \n",
       "\n",
       "                                         processor                        ram  \\\n",
       "0  Snapdragon 8 Gen2, Octa Core, 3.2 GHz Processor  12 GB RAM, 256 GB inbuilt   \n",
       "1     Snapdragon 695, Octa Core, 2.2 GHz Processor   6 GB RAM, 128 GB inbuilt   \n",
       "2        Exynos 1330, Octa Core, 2.4 GHz Processor    4 GB RAM, 64 GB inbuilt   \n",
       "3    Snapdragon  695, Octa Core, 2.2 GHz Processor   6 GB RAM, 128 GB inbuilt   \n",
       "4     Dimensity 1080, Octa Core, 2.6 GHz Processor   6 GB RAM, 128 GB inbuilt   \n",
       "\n",
       "                                    battery  \\\n",
       "0  5000 mAh Battery with 100W Fast Charging   \n",
       "1   5000 mAh Battery with 33W Fast Charging   \n",
       "2   5000 mAh Battery with 15W Fast Charging   \n",
       "3       5000 mAh Battery with Fast Charging   \n",
       "4   5000 mAh Battery with 67W Fast Charging   \n",
       "\n",
       "                                             display  \\\n",
       "0  6.7 inches, 1440 x 3216 px, 120 Hz Display wit...   \n",
       "1  6.59 inches, 1080 x 2412 px, 120 Hz Display wi...   \n",
       "2  6.6 inches, 1080 x 2408 px, 90 Hz Display with...   \n",
       "3  6.55 inches, 1080 x 2400 px, 120 Hz Display wi...   \n",
       "4  6.7 inches, 1080 x 2412 px, 120 Hz Display wit...   \n",
       "\n",
       "                                              camera  \\\n",
       "0  50 MP + 48 MP + 32 MP Triple Rear & 16 MP Fron...   \n",
       "1  64 MP + 2 MP + 2 MP Triple Rear & 16 MP Front ...   \n",
       "2  50 MP + 2 MP + 2 MP Triple Rear & 13 MP Front ...   \n",
       "3  50 MP + 8 MP + 2 MP Triple Rear & 16 MP Front ...   \n",
       "4  108 MP + 8 MP + 2 MP Triple Rear & 16 MP Front...   \n",
       "\n",
       "                               card           os  \n",
       "0         Memory Card Not Supported  Android v13  \n",
       "1   Memory Card (Hybrid), upto 1 TB  Android v12  \n",
       "2  Memory Card Supported, upto 1 TB  Android v13  \n",
       "3   Memory Card (Hybrid), upto 1 TB  Android v12  \n",
       "4         Memory Card Not Supported  Android v13  "
      ]
     },
     "execution_count": 3,
     "metadata": {},
     "output_type": "execute_result"
    }
   ],
   "source": [
    "df.head()"
   ]
  },
  {
   "cell_type": "code",
   "execution_count": 4,
   "id": "812e6505",
   "metadata": {},
   "outputs": [
    {
     "data": {
      "text/plain": [
       "array(['OnePlus', 'Samsung', 'Motorola', 'Realme', 'Apple', 'Xiaomi',\n",
       "       'Nothing', 'Oppo', 'Vivo', 'OPPO', 'Poco', 'iQOO', 'Jio', 'Gionee',\n",
       "       'Tecno', 'Tesla', 'Google', 'Infinix', 'Nokia', 'Cola', 'Letv',\n",
       "       'POCO', 'iKall', 'LeEco', 'Duoqin', 'Lava', 'Honor', 'Nubia',\n",
       "       'Redmi', 'Asus', 'itel', 'Royole', 'Sony', 'Oukitel', 'Vertu',\n",
       "       'BLU', 'Lyf', 'Itel', 'Huawei', 'ZTE', 'Lenovo', 'LG', 'Namotel',\n",
       "       'Eunity', 'Micromax', 'Zanco', 'Karbonn', 'Leitz', 'CAT', 'DIZO',\n",
       "       'BlackZone', 'Doogee', 'TCL', 'Sharp', 'Blackview', 'XTouch'],\n",
       "      dtype=object)"
      ]
     },
     "execution_count": 4,
     "metadata": {},
     "output_type": "execute_result"
    }
   ],
   "source": [
    "df['brand']=df['model'].apply(lambda x: x.split()[0])\n",
    "df['brand'].unique()"
   ]
  },
  {
   "cell_type": "code",
   "execution_count": 5,
   "id": "8f7459c8",
   "metadata": {},
   "outputs": [],
   "source": [
    "def price_extract(text):\n",
    "    partten=\"₹\\d+,\\d+,\\d+|₹\\d+,\\d+|₹\\d+\"\n",
    "    match=re.search(partten,text)\n",
    "    t=match[0]\n",
    "    return int(t[1:].replace(',',''))"
   ]
  },
  {
   "cell_type": "code",
   "execution_count": 6,
   "id": "2f0cb8c2",
   "metadata": {},
   "outputs": [
    {
     "name": "stdout",
     "output_type": "stream",
     "text": [
      "<class 'pandas.core.series.Series'>\n",
      "RangeIndex: 1020 entries, 0 to 1019\n",
      "Series name: price_clean\n",
      "Non-Null Count  Dtype\n",
      "--------------  -----\n",
      "1020 non-null   int64\n",
      "dtypes: int64(1)\n",
      "memory usage: 8.1 KB\n"
     ]
    }
   ],
   "source": [
    "df['price_clean']=df['price'].apply(price_extract)\n",
    "df['price_clean'].info()"
   ]
  },
  {
   "cell_type": "code",
   "execution_count": 7,
   "id": "ae060c0b",
   "metadata": {},
   "outputs": [
    {
     "data": {
      "text/plain": [
       "array([0, 1], dtype=int64)"
      ]
     },
     "execution_count": 7,
     "metadata": {},
     "output_type": "execute_result"
    }
   ],
   "source": [
    "df['no_of_sim']=df['sim'].apply(lambda x: 2 if 'Dual Sim' in x else 1)\n",
    "df['5g']=df['sim'].apply(lambda x: 1 if '5G' in x else 0)\n",
    "df['nfc']=df['sim'].apply(lambda x: 1 if 'NFC' in x else 0)\n",
    "df['irb']=df['sim'].apply(lambda x: 1 if 'IR Blaster' in x else 0)\n",
    "df['irb'].unique()"
   ]
  },
  {
   "cell_type": "code",
   "execution_count": 8,
   "id": "7662d987",
   "metadata": {},
   "outputs": [],
   "source": [
    "def core_extract(text):\n",
    "    partten='\\w+\\sCore'\n",
    "    match=re.search(partten,text)\n",
    "    map_dir={'Octa Core':8,\n",
    "              'Hexa Core':6,\n",
    "              'Quad Core':4,\n",
    "              'Dual Core':2,\n",
    "              'Single Core':1\n",
    "            }\n",
    "    if match:\n",
    "        return map_dir[match[0]]\n",
    "    else:\n",
    "        return None"
   ]
  },
  {
   "cell_type": "code",
   "execution_count": 9,
   "id": "5825a5d3",
   "metadata": {},
   "outputs": [],
   "source": [
    "# df['core'].unique()"
   ]
  },
  {
   "cell_type": "code",
   "execution_count": 10,
   "id": "5e11c0e7",
   "metadata": {},
   "outputs": [],
   "source": [
    "def extract_clock_speed(text):\n",
    "    partten=\"\\d+.\\d+\\sGHz|\\d+\\sGHz\"\n",
    "    match=re.search(partten,text)\n",
    "    if match:\n",
    "        return float(match[0][:-4])\n",
    "    else:\n",
    "        return np.nan"
   ]
  },
  {
   "cell_type": "code",
   "execution_count": 11,
   "id": "46d3aad5",
   "metadata": {},
   "outputs": [
    {
     "data": {
      "text/plain": [
       "array([3.2 , 2.2 , 2.4 , 2.6 , 3.22, 2.5 , 3.  , 2.3 , 2.85, 2.  , 2.84,\n",
       "        nan, 2.65, 2.9 , 2.36, 1.8 , 3.1 , 2.05, 3.05, 1.4 , 1.3 , 1.82,\n",
       "       1.6 , 1.1 , 2.8 , 2.73, 2.7 , 1.  , 1.5 , 2.96, 2.35, 2.37, 3.13,\n",
       "       1.99, 2.86, 1.95, 2.1 , 1.2 ])"
      ]
     },
     "execution_count": 11,
     "metadata": {},
     "output_type": "execute_result"
    }
   ],
   "source": [
    "df['processor_name']=df['processor'].apply(lambda x: x.split(',')[0].strip())\n",
    "df['core']=df['processor'].apply(core_extract)\n",
    "df['clock_speed']=df['processor'].apply(extract_clock_speed)\n",
    "df['clock_speed'].unique()"
   ]
  },
  {
   "cell_type": "code",
   "execution_count": 12,
   "id": "31824d07",
   "metadata": {},
   "outputs": [],
   "source": [
    "def extract_ram(text):\n",
    "    partten=\"(\\d+)\\sGB\\sRAM\"\n",
    "    match=re.search(partten,text)\n",
    "    if match:\n",
    "        return int(match.group(1))\n",
    "    else:\n",
    "        return np.nan"
   ]
  },
  {
   "cell_type": "code",
   "execution_count": 13,
   "id": "c59aa0e1",
   "metadata": {},
   "outputs": [],
   "source": [
    "def extract_rom(text):\n",
    "    partten=\"(\\d+)\\sGB\\sinbuilt\"\n",
    "    match=re.search(partten,text)\n",
    "    if match:\n",
    "        return int(match.group(1))\n",
    "    else:\n",
    "        return np.nan"
   ]
  },
  {
   "cell_type": "code",
   "execution_count": 14,
   "id": "8ce01472",
   "metadata": {},
   "outputs": [
    {
     "data": {
      "text/plain": [
       "array([256., 128.,  64.,  32., 512.,  nan,   4.,  16.,   8.])"
      ]
     },
     "execution_count": 14,
     "metadata": {},
     "output_type": "execute_result"
    }
   ],
   "source": [
    "# extract RAM and ROM sizes using regular expressions\n",
    "df['ram_size']=df['ram'].apply(extract_ram)\n",
    "df['rom_size']=df['ram'].apply(extract_rom)\n",
    "df['rom_size'].unique()\n",
    "# df['rom_size'] = df['ram'].apply(lambda x: int(re.search(r'(\\d+)\\s*GB\\s*inbuilt', x).group(1)))"
   ]
  },
  {
   "cell_type": "code",
   "execution_count": 15,
   "id": "e72716f8",
   "metadata": {},
   "outputs": [],
   "source": [
    "def extract_mah(text):\n",
    "    partten='(\\d+)\\smAh'\n",
    "    match=re.search(partten,text)\n",
    "    if match:\n",
    "        return int(match.group(1))\n",
    "    else:\n",
    "        return 1000"
   ]
  },
  {
   "cell_type": "code",
   "execution_count": 16,
   "id": "e09875d7",
   "metadata": {},
   "outputs": [],
   "source": [
    "def extract_charging_speed(text):\n",
    "    partten='(\\d+)W'\n",
    "    match=re.search(partten,text)\n",
    "    if match:\n",
    "        return int(match.group(1))\n",
    "    else:\n",
    "        return 10"
   ]
  },
  {
   "cell_type": "code",
   "execution_count": 17,
   "id": "819bd802",
   "metadata": {},
   "outputs": [
    {
     "data": {
      "text/plain": [
       "array([100,  33,  15,  10,  67,  25, 120,  80,  18,  45,  66,  44, 210,\n",
       "        30, 150,  68,  50,  20,  65, 180, 125,  40,  60, 200, 240,  19,\n",
       "        21, 135, 165,   5,  27,  55,   2], dtype=int64)"
      ]
     },
     "execution_count": 17,
     "metadata": {},
     "output_type": "execute_result"
    }
   ],
   "source": [
    "df['mah']=df['battery'].apply(extract_mah)\n",
    "df['charging_speed']=df['battery'].apply(extract_charging_speed)\n",
    "df['charging_speed'].unique()"
   ]
  },
  {
   "cell_type": "code",
   "execution_count": 18,
   "id": "de0f3034",
   "metadata": {},
   "outputs": [],
   "source": [
    "def extract_screen_size(text):\n",
    "    partten='(\\d+.\\d+|\\d+)\\sinches'\n",
    "    match=re.search(partten,text)\n",
    "    if match:\n",
    "        return float(match.group(1))\n",
    "    else:\n",
    "        return np.nan"
   ]
  },
  {
   "cell_type": "code",
   "execution_count": 19,
   "id": "eacb1362",
   "metadata": {},
   "outputs": [],
   "source": [
    "def extract_refresh_rate(text):\n",
    "    partten='(\\d+)\\sHz'\n",
    "    match=re.search(partten,text)\n",
    "    if match:\n",
    "        return int(match.group(1))\n",
    "    else:\n",
    "        return 60"
   ]
  },
  {
   "cell_type": "code",
   "execution_count": 20,
   "id": "1f3f0590",
   "metadata": {},
   "outputs": [],
   "source": [
    "def extract_screen_resoultion(text):\n",
    "    partten='(\\d+)\\sx\\s\\d+\\spx'\n",
    "    match=re.search(partten,text)\n",
    "    if match:\n",
    "        temp=int(match.group(1))\n",
    "        if temp>=2200:\n",
    "            return 2200\n",
    "        elif temp>=1440:\n",
    "            return 1440\n",
    "        elif temp>=1080:\n",
    "            return 1080\n",
    "        elif temp>=720:\n",
    "            return 720\n",
    "        else:\n",
    "            temp\n",
    "    else:\n",
    "        return 100"
   ]
  },
  {
   "cell_type": "code",
   "execution_count": 21,
   "id": "80f4f262",
   "metadata": {},
   "outputs": [],
   "source": [
    "# df_new.head()"
   ]
  },
  {
   "cell_type": "code",
   "execution_count": 22,
   "id": "98dc732c",
   "metadata": {},
   "outputs": [
    {
     "data": {
      "text/plain": [
       "array([1440., 1080.,  720.,  100., 2200.,   nan])"
      ]
     },
     "execution_count": 22,
     "metadata": {},
     "output_type": "execute_result"
    }
   ],
   "source": [
    "df['screen_size']=df['display'].apply(extract_screen_size)\n",
    "df['screen_refrash_rate']=df['display'].apply(extract_refresh_rate)\n",
    "df['screen_resoultion']=df['display'].apply(extract_screen_resoultion)\n",
    "df['screen_resoultion'].unique()"
   ]
  },
  {
   "cell_type": "code",
   "execution_count": 23,
   "id": "b294f9eb",
   "metadata": {},
   "outputs": [],
   "source": [
    "def extract_rear_cam(text):\n",
    "    partten=r\"(\\d+)[A-Za-z0-9\\s\\+]+Front\"\n",
    "    match=re.search(partten,str(text))\n",
    "    if match:\n",
    "        return int(match.group(1))\n",
    "    else:\n",
    "        return None"
   ]
  },
  {
   "cell_type": "code",
   "execution_count": 24,
   "id": "a54723c1",
   "metadata": {},
   "outputs": [],
   "source": [
    "def extract_rear_cam(text):\n",
    "    partten=\"&\\s(\\d+)\\sMP\\sFront\"\n",
    "    match=re.search(partten,str(text))\n",
    "    if match:\n",
    "        return int(match.group(1))\n",
    "    else:\n",
    "        return None"
   ]
  },
  {
   "cell_type": "code",
   "execution_count": 25,
   "id": "e9f96aa8",
   "metadata": {},
   "outputs": [
    {
     "data": {
      "text/plain": [
       "array([16., 13.,  8., 12., 32.,  5., 50., 40., nan, 10., 60.,  2.,  7.,\n",
       "       44., 20., 24., 25.])"
      ]
     },
     "execution_count": 25,
     "metadata": {},
     "output_type": "execute_result"
    }
   ],
   "source": [
    "df['rear_cam']=df['camera'].apply(extract_rear_cam)\n",
    "df['front_cam']=df['camera'].apply(extract_rear_cam)\n",
    "df['front_cam'].unique()"
   ]
  },
  {
   "cell_type": "code",
   "execution_count": 26,
   "id": "e74e66f8",
   "metadata": {},
   "outputs": [],
   "source": [
    "# df['card'].unique()"
   ]
  },
  {
   "cell_type": "code",
   "execution_count": 27,
   "id": "eb81a547",
   "metadata": {},
   "outputs": [],
   "source": [
    "# text='Memory Card Not Supported'\n",
    "# ('Not' not in text)"
   ]
  },
  {
   "cell_type": "code",
   "execution_count": 28,
   "id": "c20e4808",
   "metadata": {},
   "outputs": [
    {
     "data": {
      "text/plain": [
       "array([0, 1], dtype=int64)"
      ]
     },
     "execution_count": 28,
     "metadata": {},
     "output_type": "execute_result"
    }
   ],
   "source": [
    "df['memory_card']=df['card'].apply(lambda x: 1 if 'Not' not in str(x) else 0)\n",
    "df['hybrid_card']=df['card'].apply(lambda x: 1 if 'Hybrid' in str(x) else 0)\n",
    "df['hybrid_card'].unique()"
   ]
  },
  {
   "cell_type": "code",
   "execution_count": 29,
   "id": "388284d5",
   "metadata": {},
   "outputs": [],
   "source": [
    "def map_os(os):\n",
    "    if pd.isna(os):\n",
    "        return 'other'\n",
    "    elif 'android' in os.lower():\n",
    "        return 'android'\n",
    "    elif 'ios' in os.lower():\n",
    "        return 'ios'\n",
    "    else:\n",
    "        return 'other'"
   ]
  },
  {
   "cell_type": "code",
   "execution_count": 30,
   "id": "a1ddf18a",
   "metadata": {},
   "outputs": [],
   "source": [
    "def extract_os_version(text):\n",
    "    if pd.isna(text):\n",
    "        return None\n",
    "    partten=\"v(\\d+.d+|\\d+)\"\n",
    "    match=re.search(partten,text)\n",
    "    if match:\n",
    "        return int(match.group(1))\n",
    "    else:\n",
    "        return None"
   ]
  },
  {
   "cell_type": "code",
   "execution_count": 31,
   "id": "f0641558",
   "metadata": {},
   "outputs": [
    {
     "data": {
      "text/plain": [
       "array([13., 12., 16., nan, 15., 11., 10.,  2.,  8.,  9., 17.,  4.,  5.,\n",
       "        3.,  6.,  7.])"
      ]
     },
     "execution_count": 31,
     "metadata": {},
     "output_type": "execute_result"
    }
   ],
   "source": [
    "df['os_type']=df['os'].apply(map_os)\n",
    "df['os_version']=df['os'].apply(extract_os_version)\n",
    "df['os_version'].unique()"
   ]
  },
  {
   "cell_type": "code",
   "execution_count": 32,
   "id": "ba4a614c",
   "metadata": {},
   "outputs": [
    {
     "data": {
      "text/html": [
       "<div>\n",
       "<style scoped>\n",
       "    .dataframe tbody tr th:only-of-type {\n",
       "        vertical-align: middle;\n",
       "    }\n",
       "\n",
       "    .dataframe tbody tr th {\n",
       "        vertical-align: top;\n",
       "    }\n",
       "\n",
       "    .dataframe thead th {\n",
       "        text-align: right;\n",
       "    }\n",
       "</style>\n",
       "<table border=\"1\" class=\"dataframe\">\n",
       "  <thead>\n",
       "    <tr style=\"text-align: right;\">\n",
       "      <th></th>\n",
       "      <th>rating</th>\n",
       "      <th>brand</th>\n",
       "      <th>price_clean</th>\n",
       "      <th>no_of_sim</th>\n",
       "      <th>5g</th>\n",
       "      <th>nfc</th>\n",
       "      <th>irb</th>\n",
       "      <th>processor_name</th>\n",
       "      <th>core</th>\n",
       "      <th>clock_speed</th>\n",
       "      <th>...</th>\n",
       "      <th>mah</th>\n",
       "      <th>charging_speed</th>\n",
       "      <th>screen_size</th>\n",
       "      <th>screen_refrash_rate</th>\n",
       "      <th>screen_resoultion</th>\n",
       "      <th>rear_cam</th>\n",
       "      <th>front_cam</th>\n",
       "      <th>memory_card</th>\n",
       "      <th>hybrid_card</th>\n",
       "      <th>os_type</th>\n",
       "    </tr>\n",
       "  </thead>\n",
       "  <tbody>\n",
       "    <tr>\n",
       "      <th>0</th>\n",
       "      <td>89.0</td>\n",
       "      <td>OnePlus</td>\n",
       "      <td>54999</td>\n",
       "      <td>2</td>\n",
       "      <td>1</td>\n",
       "      <td>1</td>\n",
       "      <td>0</td>\n",
       "      <td>Snapdragon 8 Gen2</td>\n",
       "      <td>8.0</td>\n",
       "      <td>3.20</td>\n",
       "      <td>...</td>\n",
       "      <td>5000</td>\n",
       "      <td>100</td>\n",
       "      <td>6.70</td>\n",
       "      <td>120</td>\n",
       "      <td>1440.0</td>\n",
       "      <td>16.0</td>\n",
       "      <td>16.0</td>\n",
       "      <td>0</td>\n",
       "      <td>0</td>\n",
       "      <td>android</td>\n",
       "    </tr>\n",
       "    <tr>\n",
       "      <th>1</th>\n",
       "      <td>81.0</td>\n",
       "      <td>OnePlus</td>\n",
       "      <td>19989</td>\n",
       "      <td>2</td>\n",
       "      <td>1</td>\n",
       "      <td>0</td>\n",
       "      <td>0</td>\n",
       "      <td>Snapdragon 695</td>\n",
       "      <td>8.0</td>\n",
       "      <td>2.20</td>\n",
       "      <td>...</td>\n",
       "      <td>5000</td>\n",
       "      <td>33</td>\n",
       "      <td>6.59</td>\n",
       "      <td>120</td>\n",
       "      <td>1080.0</td>\n",
       "      <td>16.0</td>\n",
       "      <td>16.0</td>\n",
       "      <td>1</td>\n",
       "      <td>1</td>\n",
       "      <td>android</td>\n",
       "    </tr>\n",
       "    <tr>\n",
       "      <th>2</th>\n",
       "      <td>75.0</td>\n",
       "      <td>Samsung</td>\n",
       "      <td>16499</td>\n",
       "      <td>2</td>\n",
       "      <td>1</td>\n",
       "      <td>0</td>\n",
       "      <td>0</td>\n",
       "      <td>Exynos 1330</td>\n",
       "      <td>8.0</td>\n",
       "      <td>2.40</td>\n",
       "      <td>...</td>\n",
       "      <td>5000</td>\n",
       "      <td>15</td>\n",
       "      <td>6.60</td>\n",
       "      <td>90</td>\n",
       "      <td>1080.0</td>\n",
       "      <td>13.0</td>\n",
       "      <td>13.0</td>\n",
       "      <td>1</td>\n",
       "      <td>0</td>\n",
       "      <td>android</td>\n",
       "    </tr>\n",
       "    <tr>\n",
       "      <th>3</th>\n",
       "      <td>81.0</td>\n",
       "      <td>Motorola</td>\n",
       "      <td>14999</td>\n",
       "      <td>2</td>\n",
       "      <td>1</td>\n",
       "      <td>0</td>\n",
       "      <td>0</td>\n",
       "      <td>Snapdragon  695</td>\n",
       "      <td>8.0</td>\n",
       "      <td>2.20</td>\n",
       "      <td>...</td>\n",
       "      <td>5000</td>\n",
       "      <td>10</td>\n",
       "      <td>6.55</td>\n",
       "      <td>120</td>\n",
       "      <td>1080.0</td>\n",
       "      <td>16.0</td>\n",
       "      <td>16.0</td>\n",
       "      <td>1</td>\n",
       "      <td>1</td>\n",
       "      <td>android</td>\n",
       "    </tr>\n",
       "    <tr>\n",
       "      <th>4</th>\n",
       "      <td>82.0</td>\n",
       "      <td>Realme</td>\n",
       "      <td>24999</td>\n",
       "      <td>2</td>\n",
       "      <td>1</td>\n",
       "      <td>0</td>\n",
       "      <td>0</td>\n",
       "      <td>Dimensity 1080</td>\n",
       "      <td>8.0</td>\n",
       "      <td>2.60</td>\n",
       "      <td>...</td>\n",
       "      <td>5000</td>\n",
       "      <td>67</td>\n",
       "      <td>6.70</td>\n",
       "      <td>120</td>\n",
       "      <td>1080.0</td>\n",
       "      <td>16.0</td>\n",
       "      <td>16.0</td>\n",
       "      <td>0</td>\n",
       "      <td>0</td>\n",
       "      <td>android</td>\n",
       "    </tr>\n",
       "    <tr>\n",
       "      <th>...</th>\n",
       "      <td>...</td>\n",
       "      <td>...</td>\n",
       "      <td>...</td>\n",
       "      <td>...</td>\n",
       "      <td>...</td>\n",
       "      <td>...</td>\n",
       "      <td>...</td>\n",
       "      <td>...</td>\n",
       "      <td>...</td>\n",
       "      <td>...</td>\n",
       "      <td>...</td>\n",
       "      <td>...</td>\n",
       "      <td>...</td>\n",
       "      <td>...</td>\n",
       "      <td>...</td>\n",
       "      <td>...</td>\n",
       "      <td>...</td>\n",
       "      <td>...</td>\n",
       "      <td>...</td>\n",
       "      <td>...</td>\n",
       "      <td>...</td>\n",
       "    </tr>\n",
       "    <tr>\n",
       "      <th>1015</th>\n",
       "      <td>83.0</td>\n",
       "      <td>Motorola</td>\n",
       "      <td>34990</td>\n",
       "      <td>2</td>\n",
       "      <td>1</td>\n",
       "      <td>0</td>\n",
       "      <td>0</td>\n",
       "      <td>Snapdragon 8 Gen1</td>\n",
       "      <td>8.0</td>\n",
       "      <td>3.00</td>\n",
       "      <td>...</td>\n",
       "      <td>5000</td>\n",
       "      <td>2</td>\n",
       "      <td>6.67</td>\n",
       "      <td>120</td>\n",
       "      <td>1080.0</td>\n",
       "      <td>16.0</td>\n",
       "      <td>16.0</td>\n",
       "      <td>1</td>\n",
       "      <td>0</td>\n",
       "      <td>other</td>\n",
       "    </tr>\n",
       "    <tr>\n",
       "      <th>1016</th>\n",
       "      <td>75.0</td>\n",
       "      <td>Honor</td>\n",
       "      <td>14990</td>\n",
       "      <td>2</td>\n",
       "      <td>1</td>\n",
       "      <td>0</td>\n",
       "      <td>0</td>\n",
       "      <td>Snapdragon  480+</td>\n",
       "      <td>8.0</td>\n",
       "      <td>2.20</td>\n",
       "      <td>...</td>\n",
       "      <td>5000</td>\n",
       "      <td>5</td>\n",
       "      <td>6.50</td>\n",
       "      <td>60</td>\n",
       "      <td>720.0</td>\n",
       "      <td>8.0</td>\n",
       "      <td>8.0</td>\n",
       "      <td>1</td>\n",
       "      <td>0</td>\n",
       "      <td>android</td>\n",
       "    </tr>\n",
       "    <tr>\n",
       "      <th>1017</th>\n",
       "      <td>85.0</td>\n",
       "      <td>POCO</td>\n",
       "      <td>28990</td>\n",
       "      <td>2</td>\n",
       "      <td>1</td>\n",
       "      <td>1</td>\n",
       "      <td>1</td>\n",
       "      <td>Dimensity 8100</td>\n",
       "      <td>8.0</td>\n",
       "      <td>2.85</td>\n",
       "      <td>...</td>\n",
       "      <td>5080</td>\n",
       "      <td>67</td>\n",
       "      <td>6.60</td>\n",
       "      <td>144</td>\n",
       "      <td>1080.0</td>\n",
       "      <td>16.0</td>\n",
       "      <td>16.0</td>\n",
       "      <td>0</td>\n",
       "      <td>0</td>\n",
       "      <td>android</td>\n",
       "    </tr>\n",
       "    <tr>\n",
       "      <th>1018</th>\n",
       "      <td>80.0</td>\n",
       "      <td>Motorola</td>\n",
       "      <td>19990</td>\n",
       "      <td>2</td>\n",
       "      <td>1</td>\n",
       "      <td>1</td>\n",
       "      <td>0</td>\n",
       "      <td>Snapdragon 695</td>\n",
       "      <td>8.0</td>\n",
       "      <td>2.20</td>\n",
       "      <td>...</td>\n",
       "      <td>5000</td>\n",
       "      <td>10</td>\n",
       "      <td>6.80</td>\n",
       "      <td>60</td>\n",
       "      <td>1080.0</td>\n",
       "      <td>32.0</td>\n",
       "      <td>32.0</td>\n",
       "      <td>1</td>\n",
       "      <td>0</td>\n",
       "      <td>android</td>\n",
       "    </tr>\n",
       "    <tr>\n",
       "      <th>1019</th>\n",
       "      <td>74.0</td>\n",
       "      <td>Samsung</td>\n",
       "      <td>24990</td>\n",
       "      <td>2</td>\n",
       "      <td>1</td>\n",
       "      <td>0</td>\n",
       "      <td>0</td>\n",
       "      <td>Octa Core Processor</td>\n",
       "      <td>8.0</td>\n",
       "      <td>NaN</td>\n",
       "      <td>...</td>\n",
       "      <td>5000</td>\n",
       "      <td>10</td>\n",
       "      <td>6.50</td>\n",
       "      <td>60</td>\n",
       "      <td>1080.0</td>\n",
       "      <td>32.0</td>\n",
       "      <td>32.0</td>\n",
       "      <td>1</td>\n",
       "      <td>0</td>\n",
       "      <td>android</td>\n",
       "    </tr>\n",
       "  </tbody>\n",
       "</table>\n",
       "<p>1020 rows × 22 columns</p>\n",
       "</div>"
      ],
      "text/plain": [
       "      rating     brand  price_clean  no_of_sim  5g  nfc  irb  \\\n",
       "0       89.0   OnePlus        54999          2   1    1    0   \n",
       "1       81.0   OnePlus        19989          2   1    0    0   \n",
       "2       75.0   Samsung        16499          2   1    0    0   \n",
       "3       81.0  Motorola        14999          2   1    0    0   \n",
       "4       82.0    Realme        24999          2   1    0    0   \n",
       "...      ...       ...          ...        ...  ..  ...  ...   \n",
       "1015    83.0  Motorola        34990          2   1    0    0   \n",
       "1016    75.0     Honor        14990          2   1    0    0   \n",
       "1017    85.0      POCO        28990          2   1    1    1   \n",
       "1018    80.0  Motorola        19990          2   1    1    0   \n",
       "1019    74.0   Samsung        24990          2   1    0    0   \n",
       "\n",
       "           processor_name  core  clock_speed  ...   mah  charging_speed  \\\n",
       "0       Snapdragon 8 Gen2   8.0         3.20  ...  5000             100   \n",
       "1          Snapdragon 695   8.0         2.20  ...  5000              33   \n",
       "2             Exynos 1330   8.0         2.40  ...  5000              15   \n",
       "3         Snapdragon  695   8.0         2.20  ...  5000              10   \n",
       "4          Dimensity 1080   8.0         2.60  ...  5000              67   \n",
       "...                   ...   ...          ...  ...   ...             ...   \n",
       "1015    Snapdragon 8 Gen1   8.0         3.00  ...  5000               2   \n",
       "1016     Snapdragon  480+   8.0         2.20  ...  5000               5   \n",
       "1017       Dimensity 8100   8.0         2.85  ...  5080              67   \n",
       "1018       Snapdragon 695   8.0         2.20  ...  5000              10   \n",
       "1019  Octa Core Processor   8.0          NaN  ...  5000              10   \n",
       "\n",
       "      screen_size  screen_refrash_rate  screen_resoultion  rear_cam  \\\n",
       "0            6.70                  120             1440.0      16.0   \n",
       "1            6.59                  120             1080.0      16.0   \n",
       "2            6.60                   90             1080.0      13.0   \n",
       "3            6.55                  120             1080.0      16.0   \n",
       "4            6.70                  120             1080.0      16.0   \n",
       "...           ...                  ...                ...       ...   \n",
       "1015         6.67                  120             1080.0      16.0   \n",
       "1016         6.50                   60              720.0       8.0   \n",
       "1017         6.60                  144             1080.0      16.0   \n",
       "1018         6.80                   60             1080.0      32.0   \n",
       "1019         6.50                   60             1080.0      32.0   \n",
       "\n",
       "      front_cam  memory_card  hybrid_card  os_type  \n",
       "0          16.0            0            0  android  \n",
       "1          16.0            1            1  android  \n",
       "2          13.0            1            0  android  \n",
       "3          16.0            1            1  android  \n",
       "4          16.0            0            0  android  \n",
       "...         ...          ...          ...      ...  \n",
       "1015       16.0            1            0    other  \n",
       "1016        8.0            1            0  android  \n",
       "1017       16.0            0            0  android  \n",
       "1018       32.0            1            0  android  \n",
       "1019       32.0            1            0  android  \n",
       "\n",
       "[1020 rows x 22 columns]"
      ]
     },
     "execution_count": 32,
     "metadata": {},
     "output_type": "execute_result"
    }
   ],
   "source": [
    "df_new=df.drop(['model', 'price','sim', 'processor', 'ram', 'battery',\n",
    "       'display', 'camera', 'card', 'os','os_version'],axis=1)\n",
    "df_new"
   ]
  },
  {
   "cell_type": "code",
   "execution_count": 33,
   "id": "66130d75",
   "metadata": {
    "scrolled": true
   },
   "outputs": [
    {
     "data": {
      "text/plain": [
       "rating                 141\n",
       "brand                    0\n",
       "price_clean              0\n",
       "no_of_sim                0\n",
       "5g                       0\n",
       "nfc                      0\n",
       "irb                      0\n",
       "processor_name           0\n",
       "core                    40\n",
       "clock_speed             75\n",
       "ram_size                41\n",
       "rom_size                41\n",
       "mah                      0\n",
       "charging_speed           0\n",
       "screen_size             33\n",
       "screen_refrash_rate      0\n",
       "screen_resoultion       21\n",
       "rear_cam               110\n",
       "front_cam              110\n",
       "memory_card              0\n",
       "hybrid_card              0\n",
       "os_type                  0\n",
       "dtype: int64"
      ]
     },
     "execution_count": 33,
     "metadata": {},
     "output_type": "execute_result"
    }
   ],
   "source": [
    "df_new.isna().sum()"
   ]
  },
  {
   "cell_type": "code",
   "execution_count": 34,
   "id": "f1b005db",
   "metadata": {},
   "outputs": [],
   "source": [
    "# df_new.isna().sum()[df_new.isna().sum()>0]"
   ]
  },
  {
   "cell_type": "code",
   "execution_count": 35,
   "id": "3a9011c4",
   "metadata": {},
   "outputs": [],
   "source": [
    "# df[df_new['front_cam'].isna()].iloc[:,:11]"
   ]
  },
  {
   "cell_type": "code",
   "execution_count": 36,
   "id": "457a32cc",
   "metadata": {},
   "outputs": [],
   "source": [
    "# df_new['rating'].values.reshape(-1,1)"
   ]
  },
  {
   "cell_type": "code",
   "execution_count": 37,
   "id": "0d5736c1",
   "metadata": {},
   "outputs": [],
   "source": [
    "# from sklearn.impute import KNNImputer\n",
    "# impt=KNNImputer(n_neighbors=5)\n",
    "# df_new['rating_impted']=impt.fit_transform(df_new['rating'].values.reshape(-1,1))"
   ]
  },
  {
   "cell_type": "code",
   "execution_count": 38,
   "id": "309db321",
   "metadata": {},
   "outputs": [],
   "source": [
    "# df_new['rating_impted'].unique()"
   ]
  },
  {
   "cell_type": "code",
   "execution_count": 39,
   "id": "33cfb592",
   "metadata": {},
   "outputs": [
    {
     "data": {
      "text/plain": [
       "count    879.000000\n",
       "mean      78.258248\n",
       "std        7.402854\n",
       "min       60.000000\n",
       "25%       74.000000\n",
       "50%       80.000000\n",
       "75%       84.000000\n",
       "max       89.000000\n",
       "Name: rating, dtype: float64"
      ]
     },
     "execution_count": 39,
     "metadata": {},
     "output_type": "execute_result"
    }
   ],
   "source": [
    "df_new['rating'].describe()"
   ]
  },
  {
   "cell_type": "code",
   "execution_count": 40,
   "id": "d8ca6a4a",
   "metadata": {},
   "outputs": [
    {
     "name": "stdout",
     "output_type": "stream",
     "text": [
      "<class 'pandas.core.series.Series'>\n",
      "RangeIndex: 1020 entries, 0 to 1019\n",
      "Series name: rating\n",
      "Non-Null Count  Dtype  \n",
      "--------------  -----  \n",
      "879 non-null    float64\n",
      "dtypes: float64(1)\n",
      "memory usage: 8.1 KB\n"
     ]
    }
   ],
   "source": [
    "df_new['rating'].info()"
   ]
  },
  {
   "cell_type": "code",
   "execution_count": 41,
   "id": "07bd84c5",
   "metadata": {},
   "outputs": [],
   "source": [
    "df_new['rating']=df_new['rating'].fillna(round(df_new['rating'].mean(),2))"
   ]
  },
  {
   "cell_type": "code",
   "execution_count": 42,
   "id": "c5fd0794",
   "metadata": {},
   "outputs": [
    {
     "data": {
      "text/plain": [
       "core                  40\n",
       "clock_speed           75\n",
       "ram_size              41\n",
       "rom_size              41\n",
       "screen_size           33\n",
       "screen_resoultion     21\n",
       "rear_cam             110\n",
       "front_cam            110\n",
       "dtype: int64"
      ]
     },
     "execution_count": 42,
     "metadata": {},
     "output_type": "execute_result"
    }
   ],
   "source": [
    "df_new.isna().sum()[df_new.isna().sum()>0]"
   ]
  },
  {
   "cell_type": "code",
   "execution_count": 43,
   "id": "b2a553da",
   "metadata": {},
   "outputs": [],
   "source": [
    "# df_new=df_new.drop('rating_impted',axis=1)"
   ]
  },
  {
   "cell_type": "code",
   "execution_count": 44,
   "id": "a59700f5",
   "metadata": {},
   "outputs": [],
   "source": [
    "df_new=df_new.dropna()"
   ]
  },
  {
   "cell_type": "code",
   "execution_count": 45,
   "id": "1058b099",
   "metadata": {},
   "outputs": [
    {
     "data": {
      "text/html": [
       "<div>\n",
       "<style scoped>\n",
       "    .dataframe tbody tr th:only-of-type {\n",
       "        vertical-align: middle;\n",
       "    }\n",
       "\n",
       "    .dataframe tbody tr th {\n",
       "        vertical-align: top;\n",
       "    }\n",
       "\n",
       "    .dataframe thead th {\n",
       "        text-align: right;\n",
       "    }\n",
       "</style>\n",
       "<table border=\"1\" class=\"dataframe\">\n",
       "  <thead>\n",
       "    <tr style=\"text-align: right;\">\n",
       "      <th></th>\n",
       "      <th>charging_speed</th>\n",
       "      <th>screen_size</th>\n",
       "      <th>screen_refrash_rate</th>\n",
       "      <th>screen_resoultion</th>\n",
       "      <th>rear_cam</th>\n",
       "      <th>front_cam</th>\n",
       "      <th>memory_card</th>\n",
       "      <th>hybrid_card</th>\n",
       "      <th>os_type</th>\n",
       "    </tr>\n",
       "  </thead>\n",
       "  <tbody>\n",
       "    <tr>\n",
       "      <th>0</th>\n",
       "      <td>100</td>\n",
       "      <td>6.70</td>\n",
       "      <td>120</td>\n",
       "      <td>1440.0</td>\n",
       "      <td>16.0</td>\n",
       "      <td>16.0</td>\n",
       "      <td>0</td>\n",
       "      <td>0</td>\n",
       "      <td>android</td>\n",
       "    </tr>\n",
       "    <tr>\n",
       "      <th>1</th>\n",
       "      <td>33</td>\n",
       "      <td>6.59</td>\n",
       "      <td>120</td>\n",
       "      <td>1080.0</td>\n",
       "      <td>16.0</td>\n",
       "      <td>16.0</td>\n",
       "      <td>1</td>\n",
       "      <td>1</td>\n",
       "      <td>android</td>\n",
       "    </tr>\n",
       "    <tr>\n",
       "      <th>2</th>\n",
       "      <td>15</td>\n",
       "      <td>6.60</td>\n",
       "      <td>90</td>\n",
       "      <td>1080.0</td>\n",
       "      <td>13.0</td>\n",
       "      <td>13.0</td>\n",
       "      <td>1</td>\n",
       "      <td>0</td>\n",
       "      <td>android</td>\n",
       "    </tr>\n",
       "    <tr>\n",
       "      <th>3</th>\n",
       "      <td>10</td>\n",
       "      <td>6.55</td>\n",
       "      <td>120</td>\n",
       "      <td>1080.0</td>\n",
       "      <td>16.0</td>\n",
       "      <td>16.0</td>\n",
       "      <td>1</td>\n",
       "      <td>1</td>\n",
       "      <td>android</td>\n",
       "    </tr>\n",
       "    <tr>\n",
       "      <th>4</th>\n",
       "      <td>67</td>\n",
       "      <td>6.70</td>\n",
       "      <td>120</td>\n",
       "      <td>1080.0</td>\n",
       "      <td>16.0</td>\n",
       "      <td>16.0</td>\n",
       "      <td>0</td>\n",
       "      <td>0</td>\n",
       "      <td>android</td>\n",
       "    </tr>\n",
       "  </tbody>\n",
       "</table>\n",
       "</div>"
      ],
      "text/plain": [
       "   charging_speed  screen_size  screen_refrash_rate  screen_resoultion  \\\n",
       "0             100         6.70                  120             1440.0   \n",
       "1              33         6.59                  120             1080.0   \n",
       "2              15         6.60                   90             1080.0   \n",
       "3              10         6.55                  120             1080.0   \n",
       "4              67         6.70                  120             1080.0   \n",
       "\n",
       "   rear_cam  front_cam  memory_card  hybrid_card  os_type  \n",
       "0      16.0       16.0            0            0  android  \n",
       "1      16.0       16.0            1            1  android  \n",
       "2      13.0       13.0            1            0  android  \n",
       "3      16.0       16.0            1            1  android  \n",
       "4      16.0       16.0            0            0  android  "
      ]
     },
     "execution_count": 45,
     "metadata": {},
     "output_type": "execute_result"
    }
   ],
   "source": [
    "df_new.iloc[:5,13:]"
   ]
  },
  {
   "cell_type": "code",
   "execution_count": 47,
   "id": "3a061552",
   "metadata": {},
   "outputs": [
    {
     "name": "stdout",
     "output_type": "stream",
     "text": [
      "<class 'pandas.core.frame.DataFrame'>\n",
      "Int64Index: 864 entries, 0 to 1018\n",
      "Data columns (total 22 columns):\n",
      " #   Column               Non-Null Count  Dtype  \n",
      "---  ------               --------------  -----  \n",
      " 0   rating               864 non-null    float64\n",
      " 1   brand                864 non-null    object \n",
      " 2   price_clean          864 non-null    int64  \n",
      " 3   no_of_sim            864 non-null    int64  \n",
      " 4   5g                   864 non-null    int64  \n",
      " 5   nfc                  864 non-null    int64  \n",
      " 6   irb                  864 non-null    int64  \n",
      " 7   processor_name       864 non-null    object \n",
      " 8   core                 864 non-null    float64\n",
      " 9   clock_speed          864 non-null    float64\n",
      " 10  ram_size             864 non-null    float64\n",
      " 11  rom_size             864 non-null    float64\n",
      " 12  mah                  864 non-null    int64  \n",
      " 13  charging_speed       864 non-null    int64  \n",
      " 14  screen_size          864 non-null    float64\n",
      " 15  screen_refrash_rate  864 non-null    int64  \n",
      " 16  screen_resoultion    864 non-null    float64\n",
      " 17  rear_cam             864 non-null    float64\n",
      " 18  front_cam            864 non-null    float64\n",
      " 19  memory_card          864 non-null    int64  \n",
      " 20  hybrid_card          864 non-null    int64  \n",
      " 21  os_type              864 non-null    object \n",
      "dtypes: float64(9), int64(10), object(3)\n",
      "memory usage: 155.2+ KB\n"
     ]
    }
   ],
   "source": [
    "df_new.info()"
   ]
  },
  {
   "cell_type": "code",
   "execution_count": 46,
   "id": "eb72c779",
   "metadata": {},
   "outputs": [],
   "source": [
    "# df_new.to_csv(\"F:\\\\1_Study_Materials\\\\kaggel\\\\Fyenn Labs\\\\cell_phone.csv\",index=False)"
   ]
  },
  {
   "cell_type": "code",
   "execution_count": null,
   "id": "9ce50ffd",
   "metadata": {},
   "outputs": [],
   "source": []
  }
 ],
 "metadata": {
  "kernelspec": {
   "display_name": "Python 3 (ipykernel)",
   "language": "python",
   "name": "python3"
  },
  "language_info": {
   "codemirror_mode": {
    "name": "ipython",
    "version": 3
   },
   "file_extension": ".py",
   "mimetype": "text/x-python",
   "name": "python",
   "nbconvert_exporter": "python",
   "pygments_lexer": "ipython3",
   "version": "3.9.13"
  }
 },
 "nbformat": 4,
 "nbformat_minor": 5
}
